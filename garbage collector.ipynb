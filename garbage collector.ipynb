{
 "cells": [
  {
   "cell_type": "markdown",
   "id": "b6f82b98-6053-408a-a353-2370dfe5ac5f",
   "metadata": {},
   "source": [
    "# GC(garbage collector)\n",
    " \n",
    "--- overriding concept \n",
    "\n",
    "--- old value ko garbage value bolte hai vo memory me toh hoti hai par show nhi hoti"
   ]
  },
  {
   "cell_type": "code",
   "execution_count": 1,
   "id": "f22177c1-7ef4-4e50-9f33-1bf0772896ca",
   "metadata": {},
   "outputs": [],
   "source": [
    "import gc"
   ]
  },
  {
   "cell_type": "code",
   "execution_count": 2,
   "id": "1554936b-0465-4b59-b4e7-ecad42e573d5",
   "metadata": {},
   "outputs": [],
   "source": [
    "a=10"
   ]
  },
  {
   "cell_type": "code",
   "execution_count": 3,
   "id": "5c18bb16-dc61-42d8-bd36-351aaad11be0",
   "metadata": {},
   "outputs": [],
   "source": [
    "a=20"
   ]
  },
  {
   "cell_type": "code",
   "execution_count": 10,
   "id": "e89fc958-0e04-41ad-9029-7718369db2b1",
   "metadata": {},
   "outputs": [
    {
     "data": {
      "text/plain": [
       "20"
      ]
     },
     "execution_count": 10,
     "metadata": {},
     "output_type": "execute_result"
    }
   ],
   "source": [
    "a"
   ]
  },
  {
   "cell_type": "code",
   "execution_count": 4,
   "id": "17d4314a-1906-43b4-9619-1cd97837c089",
   "metadata": {},
   "outputs": [
    {
     "data": {
      "text/plain": [
       "319"
      ]
     },
     "execution_count": 4,
     "metadata": {},
     "output_type": "execute_result"
    }
   ],
   "source": [
    "gc.collect()"
   ]
  },
  {
   "cell_type": "code",
   "execution_count": 5,
   "id": "10eef0c7-3292-484c-82e4-d39969f14b31",
   "metadata": {},
   "outputs": [],
   "source": [
    "gc.disable()"
   ]
  },
  {
   "cell_type": "code",
   "execution_count": 6,
   "id": "17e92181-fc7f-47d4-a375-4d3a68e1ebee",
   "metadata": {},
   "outputs": [
    {
     "data": {
      "text/plain": [
       "False"
      ]
     },
     "execution_count": 6,
     "metadata": {},
     "output_type": "execute_result"
    }
   ],
   "source": [
    "gc.isenabled()"
   ]
  },
  {
   "cell_type": "code",
   "execution_count": 7,
   "id": "31c06632-8076-43d0-b746-f0c5bacbe757",
   "metadata": {},
   "outputs": [],
   "source": [
    "gc.enable()"
   ]
  },
  {
   "cell_type": "code",
   "execution_count": 8,
   "id": "2a62e7f3-6ec4-44fc-b5b2-2934fa6b48d7",
   "metadata": {},
   "outputs": [
    {
     "data": {
      "text/plain": [
       "True"
      ]
     },
     "execution_count": 8,
     "metadata": {},
     "output_type": "execute_result"
    }
   ],
   "source": [
    "gc.isenabled()"
   ]
  },
  {
   "cell_type": "code",
   "execution_count": 11,
   "id": "14f93af1-60ca-4917-927f-3f2646203f2c",
   "metadata": {},
   "outputs": [
    {
     "data": {
      "text/plain": [
       "[]"
      ]
     },
     "execution_count": 11,
     "metadata": {},
     "output_type": "execute_result"
    }
   ],
   "source": [
    "gc.garbage"
   ]
  }
 ],
 "metadata": {
  "kernelspec": {
   "display_name": "Python 3 (ipykernel)",
   "language": "python",
   "name": "python3"
  },
  "language_info": {
   "codemirror_mode": {
    "name": "ipython",
    "version": 3
   },
   "file_extension": ".py",
   "mimetype": "text/x-python",
   "name": "python",
   "nbconvert_exporter": "python",
   "pygments_lexer": "ipython3",
   "version": "3.11.5"
  }
 },
 "nbformat": 4,
 "nbformat_minor": 5
}
